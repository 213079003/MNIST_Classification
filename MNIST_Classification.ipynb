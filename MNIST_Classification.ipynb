{
  "nbformat": 4,
  "nbformat_minor": 0,
  "metadata": {
    "colab": {
      "provenance": [],
      "toc_visible": true
    },
    "kernelspec": {
      "name": "python3",
      "display_name": "Python 3"
    },
    "accelerator": "GPU"
  },
  "cells": [
    {
      "cell_type": "markdown",
      "metadata": {
        "id": "Jd0wDn7vWjC-"
      },
      "source": [
        "# **MNIST Handwritten Digits Classification**\n",
        "A FFNN (Feed Forward Neural Network) and CNN (Convolutional Nerual Network) have been modeled"
      ]
    },
    {
      "cell_type": "markdown",
      "metadata": {
        "id": "iQEobqIfZy0x"
      },
      "source": [
        "## Import required packages"
      ]
    },
    {
      "cell_type": "code",
      "source": [
        "from google.colab import drive\n",
        "drive.mount('/content/gdrive', force_remount=False)"
      ],
      "metadata": {
        "colab": {
          "base_uri": "https://localhost:8080/"
        },
        "id": "xB_-vvIteGvg",
        "outputId": "4151348a-dc34-4343-9802-9b98701e33bb"
      },
      "execution_count": null,
      "outputs": [
        {
          "output_type": "stream",
          "name": "stdout",
          "text": [
            "Mounted at /content/gdrive\n"
          ]
        }
      ]
    },
    {
      "cell_type": "code",
      "metadata": {
        "id": "qdrpoBnCj1r5"
      },
      "source": [
        "import numpy as np\n",
        "import torch\n",
        "from torchvision import datasets,transforms\n",
        "import matplotlib.pyplot as plt\n",
        "import seaborn as sns\n",
        "import torch.nn as nn\n",
        "import torch.nn.functional as F\n",
        "from torch.utils.data.sampler import SubsetRandomSampler"
      ],
      "execution_count": null,
      "outputs": []
    },
    {
      "cell_type": "markdown",
      "metadata": {
        "id": "h51P0XuLZ29A"
      },
      "source": [
        "## Defining our Transforms"
      ]
    },
    {
      "cell_type": "code",
      "metadata": {
        "id": "ZPjHdd8IlJZw"
      },
      "source": [
        "transform=transforms.Compose([transforms.ToTensor()])"
      ],
      "execution_count": null,
      "outputs": []
    },
    {
      "cell_type": "markdown",
      "metadata": {
        "id": "seH5ywhsZ7CL"
      },
      "source": [
        "## Gathering the train and test data\n"
      ]
    },
    {
      "cell_type": "code",
      "metadata": {
        "id": "rkagJHmFpVNd",
        "colab": {
          "base_uri": "https://localhost:8080/"
        },
        "outputId": "7cafda46-a8ee-49e7-f908-bc452ee3a52b"
      },
      "source": [
        "train_data=datasets.MNIST('data',train=True,download=True,transform=transform)\n",
        "test_data=datasets.MNIST('data',train=False,download=True,transform=transform)"
      ],
      "execution_count": null,
      "outputs": [
        {
          "output_type": "stream",
          "name": "stdout",
          "text": [
            "Downloading http://yann.lecun.com/exdb/mnist/train-images-idx3-ubyte.gz\n",
            "Downloading http://yann.lecun.com/exdb/mnist/train-images-idx3-ubyte.gz to data/MNIST/raw/train-images-idx3-ubyte.gz\n"
          ]
        },
        {
          "output_type": "stream",
          "name": "stderr",
          "text": [
            "100%|██████████| 9912422/9912422 [00:00<00:00, 103000174.02it/s]\n"
          ]
        },
        {
          "output_type": "stream",
          "name": "stdout",
          "text": [
            "Extracting data/MNIST/raw/train-images-idx3-ubyte.gz to data/MNIST/raw\n",
            "\n",
            "Downloading http://yann.lecun.com/exdb/mnist/train-labels-idx1-ubyte.gz\n",
            "Downloading http://yann.lecun.com/exdb/mnist/train-labels-idx1-ubyte.gz to data/MNIST/raw/train-labels-idx1-ubyte.gz\n"
          ]
        },
        {
          "output_type": "stream",
          "name": "stderr",
          "text": [
            "100%|██████████| 28881/28881 [00:00<00:00, 90738347.43it/s]\n"
          ]
        },
        {
          "output_type": "stream",
          "name": "stdout",
          "text": [
            "Extracting data/MNIST/raw/train-labels-idx1-ubyte.gz to data/MNIST/raw\n",
            "\n",
            "Downloading http://yann.lecun.com/exdb/mnist/t10k-images-idx3-ubyte.gz\n",
            "Downloading http://yann.lecun.com/exdb/mnist/t10k-images-idx3-ubyte.gz to data/MNIST/raw/t10k-images-idx3-ubyte.gz\n"
          ]
        },
        {
          "output_type": "stream",
          "name": "stderr",
          "text": [
            "100%|██████████| 1648877/1648877 [00:00<00:00, 29658261.63it/s]\n"
          ]
        },
        {
          "output_type": "stream",
          "name": "stdout",
          "text": [
            "Extracting data/MNIST/raw/t10k-images-idx3-ubyte.gz to data/MNIST/raw\n",
            "\n",
            "Downloading http://yann.lecun.com/exdb/mnist/t10k-labels-idx1-ubyte.gz\n",
            "Downloading http://yann.lecun.com/exdb/mnist/t10k-labels-idx1-ubyte.gz to data/MNIST/raw/t10k-labels-idx1-ubyte.gz\n"
          ]
        },
        {
          "output_type": "stream",
          "name": "stderr",
          "text": [
            "100%|██████████| 4542/4542 [00:00<00:00, 11774121.61it/s]\n"
          ]
        },
        {
          "output_type": "stream",
          "name": "stdout",
          "text": [
            "Extracting data/MNIST/raw/t10k-labels-idx1-ubyte.gz to data/MNIST/raw\n",
            "\n"
          ]
        }
      ]
    },
    {
      "cell_type": "code",
      "source": [
        "len(train_data), len(test_data)"
      ],
      "metadata": {
        "colab": {
          "base_uri": "https://localhost:8080/"
        },
        "id": "NuvuSnnSYpVA",
        "outputId": "60331f05-b55a-4a4e-9620-a3d76e10e96e"
      },
      "execution_count": null,
      "outputs": [
        {
          "output_type": "execute_result",
          "data": {
            "text/plain": [
              "(60000, 10000)"
            ]
          },
          "metadata": {},
          "execution_count": 13
        }
      ]
    },
    {
      "cell_type": "markdown",
      "metadata": {
        "id": "UPffPjsoZ-Os"
      },
      "source": [
        "## Defining our Train, Valid and Test Dataloaders"
      ]
    },
    {
      "cell_type": "code",
      "metadata": {
        "id": "2b3RqpZ8Jq19"
      },
      "source": [
        "valid_size=0.2\n",
        "\n",
        "# IMPORTANT\n",
        "batch_size=20\n",
        "\n",
        "num_workers=0\n",
        "\n",
        "train_length = len(train_data)\n",
        "\n",
        "# obtain training dataset indices that will be used for validation dataset\n",
        "indices = list(range(train_length))\n",
        "\n",
        "np.random.shuffle(indices)\n",
        "split = int(np.floor(valid_size * train_length))  #splitting the indices\n",
        "train_idx, valid_idx = indices[split:], indices[:split]\n",
        "\n",
        "# define samplers for obtaining training and validation batches\n",
        "train_sampler = SubsetRandomSampler(train_idx)\n",
        "valid_sampler = SubsetRandomSampler(valid_idx)\n",
        "\n",
        "# prepare data loaders for train, test and validation dataset\n",
        "train_loader = torch.utils.data.DataLoader(train_data, batch_size=batch_size,sampler=train_sampler, num_workers=num_workers)\n",
        "valid_loader = torch.utils.data.DataLoader(train_data, batch_size=batch_size,sampler=valid_sampler, num_workers=num_workers)\n",
        "test_loader = torch.utils.data.DataLoader(test_data, batch_size=batch_size,num_workers=num_workers)"
      ],
      "execution_count": null,
      "outputs": []
    },
    {
      "cell_type": "code",
      "metadata": {
        "id": "SFrfD1rovarC",
        "colab": {
          "base_uri": "https://localhost:8080/"
        },
        "outputId": "14b5f1cd-a046-4186-b6d3-42a062999c7e"
      },
      "source": [
        "# This is for debugging\n",
        "train_idx.__len__(),valid_idx.__len__()"
      ],
      "execution_count": null,
      "outputs": [
        {
          "output_type": "execute_result",
          "data": {
            "text/plain": [
              "(48000, 12000)"
            ]
          },
          "metadata": {},
          "execution_count": 15
        }
      ]
    },
    {
      "cell_type": "code",
      "metadata": {
        "id": "Ia4zhtOwaNF-",
        "colab": {
          "base_uri": "https://localhost:8080/"
        },
        "outputId": "9aa97bdd-cad9-4ef6-a007-c0253753ab74"
      },
      "source": [
        "# Printing the length of our train, valid and test dataloaders\n",
        "# NOTE : Here batch size is 20\n",
        "len(train_loader),len(valid_loader),len(test_loader)"
      ],
      "execution_count": null,
      "outputs": [
        {
          "output_type": "execute_result",
          "data": {
            "text/plain": [
              "(2400, 600, 500)"
            ]
          },
          "metadata": {},
          "execution_count": 16
        }
      ]
    },
    {
      "cell_type": "code",
      "metadata": {
        "id": "MygM53E6aPDq",
        "colab": {
          "base_uri": "https://localhost:8080/"
        },
        "outputId": "21bf5f95-605b-4cee-acdf-b155ad015435"
      },
      "source": [
        "# checking our data\n",
        "dataiter = iter(train_loader)\n",
        "images,labels = next(dataiter)\n",
        "print(images, images.shape, len(images), images[0].shape)\n",
        "print()\n",
        "print(labels,labels.shape,len(labels))"
      ],
      "execution_count": null,
      "outputs": [
        {
          "output_type": "stream",
          "name": "stdout",
          "text": [
            "tensor([[[[0., 0., 0.,  ..., 0., 0., 0.],\n",
            "          [0., 0., 0.,  ..., 0., 0., 0.],\n",
            "          [0., 0., 0.,  ..., 0., 0., 0.],\n",
            "          ...,\n",
            "          [0., 0., 0.,  ..., 0., 0., 0.],\n",
            "          [0., 0., 0.,  ..., 0., 0., 0.],\n",
            "          [0., 0., 0.,  ..., 0., 0., 0.]]],\n",
            "\n",
            "\n",
            "        [[[0., 0., 0.,  ..., 0., 0., 0.],\n",
            "          [0., 0., 0.,  ..., 0., 0., 0.],\n",
            "          [0., 0., 0.,  ..., 0., 0., 0.],\n",
            "          ...,\n",
            "          [0., 0., 0.,  ..., 0., 0., 0.],\n",
            "          [0., 0., 0.,  ..., 0., 0., 0.],\n",
            "          [0., 0., 0.,  ..., 0., 0., 0.]]],\n",
            "\n",
            "\n",
            "        [[[0., 0., 0.,  ..., 0., 0., 0.],\n",
            "          [0., 0., 0.,  ..., 0., 0., 0.],\n",
            "          [0., 0., 0.,  ..., 0., 0., 0.],\n",
            "          ...,\n",
            "          [0., 0., 0.,  ..., 0., 0., 0.],\n",
            "          [0., 0., 0.,  ..., 0., 0., 0.],\n",
            "          [0., 0., 0.,  ..., 0., 0., 0.]]],\n",
            "\n",
            "\n",
            "        ...,\n",
            "\n",
            "\n",
            "        [[[0., 0., 0.,  ..., 0., 0., 0.],\n",
            "          [0., 0., 0.,  ..., 0., 0., 0.],\n",
            "          [0., 0., 0.,  ..., 0., 0., 0.],\n",
            "          ...,\n",
            "          [0., 0., 0.,  ..., 0., 0., 0.],\n",
            "          [0., 0., 0.,  ..., 0., 0., 0.],\n",
            "          [0., 0., 0.,  ..., 0., 0., 0.]]],\n",
            "\n",
            "\n",
            "        [[[0., 0., 0.,  ..., 0., 0., 0.],\n",
            "          [0., 0., 0.,  ..., 0., 0., 0.],\n",
            "          [0., 0., 0.,  ..., 0., 0., 0.],\n",
            "          ...,\n",
            "          [0., 0., 0.,  ..., 0., 0., 0.],\n",
            "          [0., 0., 0.,  ..., 0., 0., 0.],\n",
            "          [0., 0., 0.,  ..., 0., 0., 0.]]],\n",
            "\n",
            "\n",
            "        [[[0., 0., 0.,  ..., 0., 0., 0.],\n",
            "          [0., 0., 0.,  ..., 0., 0., 0.],\n",
            "          [0., 0., 0.,  ..., 0., 0., 0.],\n",
            "          ...,\n",
            "          [0., 0., 0.,  ..., 0., 0., 0.],\n",
            "          [0., 0., 0.,  ..., 0., 0., 0.],\n",
            "          [0., 0., 0.,  ..., 0., 0., 0.]]]]) torch.Size([20, 1, 28, 28]) 20 torch.Size([1, 28, 28])\n",
            "\n",
            "tensor([2, 3, 1, 0, 3, 8, 3, 3, 6, 9, 1, 7, 1, 6, 1, 0, 3, 8, 7, 6]) torch.Size([20]) 20\n"
          ]
        }
      ]
    },
    {
      "cell_type": "markdown",
      "metadata": {
        "id": "3bJU78-BaDfm"
      },
      "source": [
        "## Visualizing a Training batch"
      ]
    },
    {
      "cell_type": "code",
      "metadata": {
        "id": "eMhKVPKTaWTz",
        "colab": {
          "base_uri": "https://localhost:8080/",
          "height": 198
        },
        "outputId": "bb6b5a14-065d-4633-d86b-3983755a6e23"
      },
      "source": [
        "# Displaying images and labels of a batch\n",
        "fig=plt.figure(figsize=(30,10))\n",
        "for i in range(len(labels)):\n",
        "    ax=fig.add_subplot(2,10,i+1,xticks=[],yticks=[])\n",
        "    plt.imshow(np.squeeze(images[i]))\n",
        "    ax.set_title(labels[i].item(),color='blue') #setting label as the plot title"
      ],
      "execution_count": null,
      "outputs": [
        {
          "output_type": "display_data",
          "data": {
            "text/plain": [
              "<Figure size 3000x1000 with 20 Axes>"
            ],
            "image/png": "[encoded data removed]"
          },
          "metadata": {}
        }
      ]
    },
    {
      "cell_type": "markdown",
      "metadata": {
        "id": "bei4lsIdaF8p"
      },
      "source": [
        "## Defining our Neural Net Architecture"
      ]
    },
    {
      "cell_type": "code",
      "metadata": {
        "id": "3UER4pRlaXpX"
      },
      "source": [
        "\n",
        "# Model 1 : This model has dropout set to a certain value\n",
        "# NOTE : When we want to use dropout we ensure we run train() method on our model --- during training , if not required we should use eval() method --- validation and testing\n",
        "class FNet(nn.Module):\n",
        "    def __init__(self):\n",
        "        super(FNet,self).__init__()\n",
        "        self.fc1 = nn.Linear(784,512) #input size: 28x28=784\n",
        "        self.fc2 = nn.Linear(512,256)\n",
        "        self.out = nn.Linear(256,10) #total 10 classes\n",
        "\n",
        "        # Dropout probability - set for avoiding overfitting\n",
        "        self.dropout = nn.Dropout(0.2)\n",
        "\n",
        "    def forward(self,x):\n",
        "        x = x.view(-1, 28 * 28)\n",
        "        x = self.dropout(F.relu(self.fc1(x)))\n",
        "        x = self.dropout(F.relu(self.fc2(x)))\n",
        "        x = self.out(x)\n",
        "        return x\n",
        "\n",
        "class convNet(nn.Module):\n",
        "  def __init__(self):\n",
        "    super(convNet,self).__init__()\n",
        "    self.conv1 = nn.Conv2d(in_channels=1,out_channels=16,kernel_size=3,padding=1,stride=1)\n",
        "    self.conv2 = nn.Conv2d(in_channels=16,out_channels=32,kernel_size=3,padding=1,stride=1)\n",
        "    self.pool = nn.MaxPool2d(kernel_size=2,stride=2)\n",
        "\n",
        "\n",
        "    self.fc1 = nn.Linear(7*7*32,512)\n",
        "    self.fc2 = nn.Linear(512,256)\n",
        "    self.out = nn.Linear(256,10)\n",
        "    self.dropout = nn.Dropout(0.2)\n",
        "\n",
        "  def forward(self,x):\n",
        "    x = self.pool(F.relu(self.conv1(x)))\n",
        "    x = self.pool(F.relu(self.conv2(x)))\n",
        "    x = x.view(-1,7*7*32)\n",
        "    x = self.dropout(x)\n",
        "    x = self.dropout(F.relu(self.fc1(x)))\n",
        "    x = self.dropout(F.relu(self.fc2(x)))\n",
        "    x = self.out(x)\n",
        "    return x\n"
      ],
      "execution_count": null,
      "outputs": []
    },
    {
      "cell_type": "code",
      "metadata": {
        "id": "ZraXzPRya1X_",
        "colab": {
          "base_uri": "https://localhost:8080/"
        },
        "outputId": "9a535421-714d-4393-8854-345ff17ce9c4"
      },
      "source": [
        "model_1=FNet()\n",
        "model_2=convNet()\n",
        "\n",
        "def weight_init_normal(m):\n",
        "    classname=m.__class__.__name__\n",
        "    if classname.find('Linear')!=-1:\n",
        "        n = m.in_features\n",
        "        y = (1.0/np.sqrt(n))\n",
        "        m.weight.data.normal_(0, y)\n",
        "        m.bias.data.fill_(0)\n",
        "\n",
        "model_1.apply(weight_init_normal),model_2.apply(weight_init_normal)\n",
        "\n",
        "use_cuda=True\n",
        "if use_cuda and torch.cuda.is_available():\n",
        "  model_1.cuda()\n",
        "  model_2.cuda()\n",
        "\n",
        "print(model_1,'\\n\\n\\n\\n',model_2,'\\n\\n\\n\\n','On GPU : ',torch.cuda.is_available())"
      ],
      "execution_count": null,
      "outputs": [
        {
          "output_type": "stream",
          "name": "stdout",
          "text": [
            "FNet(\n",
            "  (fc1): Linear(in_features=784, out_features=512, bias=True)\n",
            "  (fc2): Linear(in_features=512, out_features=256, bias=True)\n",
            "  (out): Linear(in_features=256, out_features=10, bias=True)\n",
            "  (dropout): Dropout(p=0.2, inplace=False)\n",
            ") \n",
            "\n",
            "\n",
            "\n",
            " convNet(\n",
            "  (conv1): Conv2d(1, 16, kernel_size=(3, 3), stride=(1, 1), padding=(1, 1))\n",
            "  (conv2): Conv2d(16, 32, kernel_size=(3, 3), stride=(1, 1), padding=(1, 1))\n",
            "  (pool): MaxPool2d(kernel_size=2, stride=2, padding=0, dilation=1, ceil_mode=False)\n",
            "  (fc1): Linear(in_features=1568, out_features=512, bias=True)\n",
            "  (fc2): Linear(in_features=512, out_features=256, bias=True)\n",
            "  (out): Linear(in_features=256, out_features=10, bias=True)\n",
            "  (dropout): Dropout(p=0.2, inplace=False)\n",
            ") \n",
            "\n",
            "\n",
            "\n",
            " On GPU :  True\n"
          ]
        }
      ]
    },
    {
      "cell_type": "markdown",
      "metadata": {
        "id": "W6fHiVR0aKEL"
      },
      "source": [
        "## Defining our Loss Function"
      ]
    },
    {
      "cell_type": "code",
      "metadata": {
        "id": "0l5LIkQmaa6t"
      },
      "source": [
        "# Loss Function\n",
        "# If we did not compute softmax at output use nn.CrossentropyLoss() else use nn.NLLLoss()  (negative log likelihood loss)\n",
        "criterion = nn.CrossEntropyLoss()"
      ],
      "execution_count": null,
      "outputs": []
    },
    {
      "cell_type": "markdown",
      "metadata": {
        "id": "z4VHb9kUaPC5"
      },
      "source": [
        "## Training and Validation Phase"
      ]
    },
    {
      "cell_type": "code",
      "metadata": {
        "id": "rGTVhhVaacsi"
      },
      "source": [
        "def trainNet(model,lr):\n",
        "    optimizer=torch.optim.Adam(model.parameters(),lr=lr)\n",
        "\n",
        "    # Number of epochs to train for\n",
        "    loss_keeper={'train':[],'valid':[]}\n",
        "    epochs=20\n",
        "\n",
        "    # minimum validation loss ----- set initial minimum to infinity\n",
        "    valid_loss_min = np.Inf\n",
        "\n",
        "    for epoch in range(epochs):\n",
        "        train_loss=0.0\n",
        "        valid_loss=0.0\n",
        "\n",
        "        \"\"\"\n",
        "        TRAINING PHASE\n",
        "        \"\"\"\n",
        "        model.train() # TURN ON DROPOUT for training\n",
        "        for images,labels in train_loader:\n",
        "            if use_cuda and torch.cuda.is_available():\n",
        "                images,labels = images.cuda(),labels.cuda()\n",
        "            optimizer.zero_grad()\n",
        "            output = model(images)\n",
        "            loss = criterion(output,labels)\n",
        "            loss.backward()\n",
        "            optimizer.step()\n",
        "            train_loss += loss.item()\n",
        "\n",
        "        \"\"\"\n",
        "        VALIDATION PHASE\n",
        "        \"\"\"\n",
        "        model.eval() # TURN OFF DROPOUT for validation\n",
        "        for images,labels in valid_loader:\n",
        "            if use_cuda and torch.cuda.is_available():\n",
        "                images,labels = images.cuda(),labels.cuda()\n",
        "            output = model(images)\n",
        "            loss = criterion(output,labels)\n",
        "            valid_loss += loss.item()\n",
        "\n",
        "        # Calculating loss over entire batch size for every epoch\n",
        "        train_loss = train_loss/len(train_loader)\n",
        "        valid_loss = valid_loss/len(valid_loader)\n",
        "\n",
        "\n",
        "        # saving loss values\n",
        "        loss_keeper['train'].append(train_loss)\n",
        "        loss_keeper['valid'].append(valid_loss)\n",
        "\n",
        "        print(f\"\\nEpoch : {epoch+1}\\tTraining Loss : {train_loss}\\tValidation Loss : {valid_loss}\")\n",
        "        if valid_loss<=valid_loss_min:\n",
        "            print(f\"Validation loss decreased from : {valid_loss_min} ----> {valid_loss} ----> Saving Model.......\")\n",
        "            z = type(model).__name__\n",
        "            torch.save(model.state_dict(), z+'_model.pth')\n",
        "            valid_loss_min=valid_loss\n",
        "    return(loss_keeper)"
      ],
      "execution_count": null,
      "outputs": []
    },
    {
      "cell_type": "code",
      "metadata": {
        "id": "5tyKfCORo-kn",
        "colab": {
          "base_uri": "https://localhost:8080/"
        },
        "outputId": "79203193-65cf-4647-b275-a0a03a38ef78"
      },
      "source": [
        "m1_loss=trainNet(model_1,0.001)"
      ],
      "execution_count": null,
      "outputs": [
        {
          "output_type": "stream",
          "name": "stdout",
          "text": [
            "\n",
            "Epoch : 1\tTraining Loss : 0.23898803001783867\tValidation Loss : 0.12228497344263209\n",
            "Validation loss decreased from : inf ----> 0.12228497344263209 ----> Saving Model.......\n",
            "\n",
            "Epoch : 2\tTraining Loss : 0.11626345107290338\tValidation Loss : 0.09466571065053965\n",
            "Validation loss decreased from : 0.12228497344263209 ----> 0.09466571065053965 ----> Saving Model.......\n",
            "\n",
            "Epoch : 3\tTraining Loss : 0.08710527058073543\tValidation Loss : 0.09681711699403725\n",
            "\n",
            "Epoch : 4\tTraining Loss : 0.07437736523391852\tValidation Loss : 0.08633302693087899\n",
            "Validation loss decreased from : 0.09466571065053965 ----> 0.08633302693087899 ----> Saving Model.......\n",
            "\n",
            "Epoch : 5\tTraining Loss : 0.0644109517139672\tValidation Loss : 0.10403003196622497\n",
            "\n",
            "Epoch : 6\tTraining Loss : 0.05349882481134955\tValidation Loss : 0.09699459988408876\n",
            "\n",
            "Epoch : 7\tTraining Loss : 0.04804572814515259\tValidation Loss : 0.09554613300573862\n",
            "\n",
            "Epoch : 8\tTraining Loss : 0.04801859647834147\tValidation Loss : 0.09672963299393254\n",
            "\n",
            "Epoch : 9\tTraining Loss : 0.04457938657454182\tValidation Loss : 0.0911690210669437\n",
            "\n",
            "Epoch : 10\tTraining Loss : 0.04093103713077758\tValidation Loss : 0.08718138084799175\n",
            "\n",
            "Epoch : 11\tTraining Loss : 0.04043467823098299\tValidation Loss : 0.10510629663401304\n",
            "\n",
            "Epoch : 12\tTraining Loss : 0.03596283338106066\tValidation Loss : 0.10470356046954093\n",
            "\n",
            "Epoch : 13\tTraining Loss : 0.03438678412674062\tValidation Loss : 0.1084502800614454\n",
            "\n",
            "Epoch : 14\tTraining Loss : 0.030275847505314875\tValidation Loss : 0.11122640800980645\n",
            "\n",
            "Epoch : 15\tTraining Loss : 0.03485829815344368\tValidation Loss : 0.09532362002245642\n",
            "\n",
            "Epoch : 16\tTraining Loss : 0.03252008655571119\tValidation Loss : 0.1330203481708276\n",
            "\n",
            "Epoch : 17\tTraining Loss : 0.03422922070213621\tValidation Loss : 0.10665022947790781\n",
            "\n",
            "Epoch : 18\tTraining Loss : 0.033153200866290596\tValidation Loss : 0.11468497757460731\n",
            "\n",
            "Epoch : 19\tTraining Loss : 0.029530439741002574\tValidation Loss : 0.13877354793970265\n",
            "\n",
            "Epoch : 20\tTraining Loss : 0.02901203521829964\tValidation Loss : 0.13352872468757074\n"
          ]
        }
      ]
    },
    {
      "cell_type": "code",
      "metadata": {
        "id": "vNmdga7j89n7",
        "colab": {
          "base_uri": "https://localhost:8080/"
        },
        "outputId": "a63a6642-733c-4071-9dbc-7474109c4d59"
      },
      "source": [
        "m1_loss"
      ],
      "execution_count": null,
      "outputs": [
        {
          "output_type": "execute_result",
          "data": {
            "text/plain": [
              "{'train': [0.23898803001783867,\n",
              "  0.11626345107290338,\n",
              "  0.08710527058073543,\n",
              "  0.07437736523391852,\n",
              "  0.0644109517139672,\n",
              "  0.05349882481134955,\n",
              "  0.04804572814515259,\n",
              "  0.04801859647834147,\n",
              "  0.04457938657454182,\n",
              "  0.04093103713077758,\n",
              "  0.04043467823098299,\n",
              "  0.03596283338106066,\n",
              "  0.03438678412674062,\n",
              "  0.030275847505314875,\n",
              "  0.03485829815344368,\n",
              "  0.03252008655571119,\n",
              "  0.03422922070213621,\n",
              "  0.033153200866290596,\n",
              "  0.029530439741002574,\n",
              "  0.02901203521829964],\n",
              " 'valid': [0.12228497344263209,\n",
              "  0.09466571065053965,\n",
              "  0.09681711699403725,\n",
              "  0.08633302693087899,\n",
              "  0.10403003196622497,\n",
              "  0.09699459988408876,\n",
              "  0.09554613300573862,\n",
              "  0.09672963299393254,\n",
              "  0.0911690210669437,\n",
              "  0.08718138084799175,\n",
              "  0.10510629663401304,\n",
              "  0.10470356046954093,\n",
              "  0.1084502800614454,\n",
              "  0.11122640800980645,\n",
              "  0.09532362002245642,\n",
              "  0.1330203481708276,\n",
              "  0.10665022947790781,\n",
              "  0.11468497757460731,\n",
              "  0.13877354793970265,\n",
              "  0.13352872468757074]}"
            ]
          },
          "metadata": {},
          "execution_count": 25
        }
      ]
    },
    {
      "cell_type": "code",
      "metadata": {
        "id": "-X4CD_DoxZHH",
        "colab": {
          "base_uri": "https://localhost:8080/"
        },
        "outputId": "09f597be-61db-443c-b0bf-9f8862ac62ba"
      },
      "source": [
        "m2_loss=trainNet(model_2,0.001)"
      ],
      "execution_count": null,
      "outputs": [
        {
          "output_type": "stream",
          "name": "stdout",
          "text": [
            "\n",
            "Epoch : 1\tTraining Loss : 0.1723064909795297\tValidation Loss : 0.07473715446617765\n",
            "Validation loss decreased from : inf ----> 0.07473715446617765 ----> Saving Model.......\n",
            "\n",
            "Epoch : 2\tTraining Loss : 0.06754929272896788\tValidation Loss : 0.0735204244582807\n",
            "Validation loss decreased from : 0.07473715446617765 ----> 0.0735204244582807 ----> Saving Model.......\n",
            "\n",
            "Epoch : 3\tTraining Loss : 0.05351541970287144\tValidation Loss : 0.05275532210102635\n",
            "Validation loss decreased from : 0.0735204244582807 ----> 0.05275532210102635 ----> Saving Model.......\n",
            "\n",
            "Epoch : 4\tTraining Loss : 0.04231624396540856\tValidation Loss : 0.05329637563264365\n",
            "\n",
            "Epoch : 5\tTraining Loss : 0.03493295005545548\tValidation Loss : 0.04297031827985355\n",
            "Validation loss decreased from : 0.05275532210102635 ----> 0.04297031827985355 ----> Saving Model.......\n",
            "\n",
            "Epoch : 6\tTraining Loss : 0.03242093266326512\tValidation Loss : 0.04913912026464383\n",
            "\n",
            "Epoch : 7\tTraining Loss : 0.027735788445855364\tValidation Loss : 0.04464918087680777\n",
            "\n",
            "Epoch : 8\tTraining Loss : 0.02528271543711362\tValidation Loss : 0.04328051228263324\n",
            "\n",
            "Epoch : 9\tTraining Loss : 0.02387455327709597\tValidation Loss : 0.04031934402925998\n",
            "Validation loss decreased from : 0.04297031827985355 ----> 0.04031934402925998 ----> Saving Model.......\n",
            "\n",
            "Epoch : 10\tTraining Loss : 0.02059107447902686\tValidation Loss : 0.046136533577000316\n",
            "\n",
            "Epoch : 11\tTraining Loss : 0.02137248738710903\tValidation Loss : 0.03861098689091856\n",
            "Validation loss decreased from : 0.04031934402925998 ----> 0.03861098689091856 ----> Saving Model.......\n",
            "\n",
            "Epoch : 12\tTraining Loss : 0.019913758201097944\tValidation Loss : 0.04238899170144469\n",
            "\n",
            "Epoch : 13\tTraining Loss : 0.017760188522438367\tValidation Loss : 0.03810181266097613\n",
            "Validation loss decreased from : 0.03861098689091856 ----> 0.03810181266097613 ----> Saving Model.......\n",
            "\n",
            "Epoch : 14\tTraining Loss : 0.0162204986211166\tValidation Loss : 0.05389181132876903\n",
            "\n",
            "Epoch : 15\tTraining Loss : 0.019238178815840667\tValidation Loss : 0.059246058382726216\n",
            "\n",
            "Epoch : 16\tTraining Loss : 0.015975029825607893\tValidation Loss : 0.058870543291770945\n",
            "\n",
            "Epoch : 17\tTraining Loss : 0.013702993299170721\tValidation Loss : 0.05190782113620258\n",
            "\n",
            "Epoch : 18\tTraining Loss : 0.01656061586738755\tValidation Loss : 0.05219660299596635\n",
            "\n",
            "Epoch : 19\tTraining Loss : 0.014520935058347598\tValidation Loss : 0.04738869935772169\n",
            "\n",
            "Epoch : 20\tTraining Loss : 0.012477930666672403\tValidation Loss : 0.05510857095785007\n"
          ]
        }
      ]
    },
    {
      "cell_type": "code",
      "metadata": {
        "id": "XAen2eRc8998",
        "colab": {
          "base_uri": "https://localhost:8080/"
        },
        "outputId": "7349bfc4-f58f-4e1e-9748-c974a5e5fa53"
      },
      "source": [
        "m2_loss"
      ],
      "execution_count": null,
      "outputs": [
        {
          "output_type": "execute_result",
          "data": {
            "text/plain": [
              "{'train': [0.1723064909795297,\n",
              "  0.06754929272896788,\n",
              "  0.05351541970287144,\n",
              "  0.04231624396540856,\n",
              "  0.03493295005545548,\n",
              "  0.03242093266326512,\n",
              "  0.027735788445855364,\n",
              "  0.02528271543711362,\n",
              "  0.02387455327709597,\n",
              "  0.02059107447902686,\n",
              "  0.02137248738710903,\n",
              "  0.019913758201097944,\n",
              "  0.017760188522438367,\n",
              "  0.0162204986211166,\n",
              "  0.019238178815840667,\n",
              "  0.015975029825607893,\n",
              "  0.013702993299170721,\n",
              "  0.01656061586738755,\n",
              "  0.014520935058347598,\n",
              "  0.012477930666672403],\n",
              " 'valid': [0.07473715446617765,\n",
              "  0.0735204244582807,\n",
              "  0.05275532210102635,\n",
              "  0.05329637563264365,\n",
              "  0.04297031827985355,\n",
              "  0.04913912026464383,\n",
              "  0.04464918087680777,\n",
              "  0.04328051228263324,\n",
              "  0.04031934402925998,\n",
              "  0.046136533577000316,\n",
              "  0.03861098689091856,\n",
              "  0.04238899170144469,\n",
              "  0.03810181266097613,\n",
              "  0.05389181132876903,\n",
              "  0.059246058382726216,\n",
              "  0.058870543291770945,\n",
              "  0.05190782113620258,\n",
              "  0.05219660299596635,\n",
              "  0.04738869935772169,\n",
              "  0.05510857095785007]}"
            ]
          },
          "metadata": {},
          "execution_count": 27
        }
      ]
    },
    {
      "cell_type": "markdown",
      "metadata": {
        "id": "IE0r8VDjaSwh"
      },
      "source": [
        "## Loading model from Lowest Validation Loss"
      ]
    },
    {
      "cell_type": "code",
      "metadata": {
        "id": "lsM_EUkk2xt3",
        "colab": {
          "base_uri": "https://localhost:8080/"
        },
        "outputId": "539cbc2d-cc6f-4875-bded-231da25805a7"
      },
      "source": [
        "# Loading the model from the lowest validation loss\n",
        "model_1.load_state_dict(torch.load('/content/FNet_model.pth'))\n",
        "model_2.load_state_dict(torch.load('/content/convNet_model.pth'))"
      ],
      "execution_count": null,
      "outputs": [
        {
          "output_type": "execute_result",
          "data": {
            "text/plain": [
              "<All keys matched successfully>"
            ]
          },
          "metadata": {},
          "execution_count": 28
        }
      ]
    },
    {
      "cell_type": "code",
      "metadata": {
        "id": "1T5HFEp4-DTo",
        "colab": {
          "base_uri": "https://localhost:8080/"
        },
        "outputId": "c1262c69-fdd3-4c33-9938-5f26f4b55499"
      },
      "source": [
        "print(model_1.state_dict,'\\n\\n\\n\\n',model_2.state_dict)"
      ],
      "execution_count": null,
      "outputs": [
        {
          "output_type": "stream",
          "name": "stdout",
          "text": [
            "<bound method Module.state_dict of FNet(\n",
            "  (fc1): Linear(in_features=784, out_features=512, bias=True)\n",
            "  (fc2): Linear(in_features=512, out_features=256, bias=True)\n",
            "  (out): Linear(in_features=256, out_features=10, bias=True)\n",
            "  (dropout): Dropout(p=0.2, inplace=False)\n",
            ")> \n",
            "\n",
            "\n",
            "\n",
            " <bound method Module.state_dict of convNet(\n",
            "  (conv1): Conv2d(1, 16, kernel_size=(3, 3), stride=(1, 1), padding=(1, 1))\n",
            "  (conv2): Conv2d(16, 32, kernel_size=(3, 3), stride=(1, 1), padding=(1, 1))\n",
            "  (pool): MaxPool2d(kernel_size=2, stride=2, padding=0, dilation=1, ceil_mode=False)\n",
            "  (fc1): Linear(in_features=1568, out_features=512, bias=True)\n",
            "  (fc2): Linear(in_features=512, out_features=256, bias=True)\n",
            "  (out): Linear(in_features=256, out_features=10, bias=True)\n",
            "  (dropout): Dropout(p=0.2, inplace=False)\n",
            ")>\n"
          ]
        }
      ]
    },
    {
      "cell_type": "markdown",
      "metadata": {
        "id": "581oexFxaWjE"
      },
      "source": [
        "## Plotting Training and Validation Losses"
      ]
    },
    {
      "cell_type": "code",
      "metadata": {
        "id": "shy0MlY_a-mr",
        "colab": {
          "base_uri": "https://localhost:8080/",
          "height": 366
        },
        "outputId": "0b6e430b-ab88-465c-9ab0-06521694d2f8"
      },
      "source": [
        "title=['FFNN','CNN']\n",
        "model_losses=[m1_loss,m2_loss]\n",
        "fig=plt.figure(1,figsize=(10,5))\n",
        "idx=1\n",
        "for i in model_losses:\n",
        "  ax=fig.add_subplot(1,2,idx)\n",
        "  ax.plot(i['train'],label=\"Training Loss\")\n",
        "  ax.plot(i['valid'],label=\"Validation Loss\")\n",
        "  ax.set_title('MNIST-Digits : '+title[idx-1])\n",
        "  idx+=1\n",
        "  plt.legend();"
      ],
      "execution_count": null,
      "outputs": [
        {
          "output_type": "display_data",
          "data": {
            "text/plain": [
              "<Figure size 1000x500 with 2 Axes>"
            ],
            "image/png": "[encoded data removed]"
          },
          "metadata": {}
        }
      ]
    },
    {
      "cell_type": "markdown",
      "metadata": {
        "id": "hxKM2mHCaZsF"
      },
      "source": [
        "## Testing Phase"
      ]
    },
    {
      "cell_type": "code",
      "metadata": {
        "id": "jbvikEyPisP9"
      },
      "source": [
        "def test(model):\n",
        "    correct=0\n",
        "    test_loss=0\n",
        "    class_correct = list(0. for i in range(10))\n",
        "    class_total = list(0. for i in range(10))\n",
        "\n",
        "    model.eval() # test the model with dropout layers off\n",
        "    for images,labels in test_loader:\n",
        "        if use_cuda and torch.cuda.is_available():\n",
        "            images,labels = images.cuda(),labels.cuda()\n",
        "        output = model(images)\n",
        "        loss = criterion(output,labels)\n",
        "        test_loss += loss.item()\n",
        "        _,pred = torch.max(output,1)\n",
        "        correct = np.squeeze(pred.eq(labels.data.view_as(pred)))\n",
        "\n",
        "        for i in range(batch_size):\n",
        "            label = labels.data[i]\n",
        "            class_correct[label] += correct[i].item()\n",
        "            class_total[label] += 1\n",
        "\n",
        "\n",
        "    test_loss = test_loss/len(test_loader)\n",
        "\n",
        "    print(f'For {type(model).__name__} :')\n",
        "    print(f\"Test Loss: {test_loss}\")\n",
        "    print(f\"Correctly predicted per class : {class_correct}, Total correctly predicted : {sum(class_correct)}\")\n",
        "    print(f\"Total Predictions per class : {class_total}, Total predictions to be made : {sum(class_total)}\\n\")\n",
        "    for i in range(10):\n",
        "      if class_total[i] > 0:\n",
        "          print(f\"Test Accuracy of class {i} : {float(100 * class_correct[i] / class_total[i]):.4f}% where {int(np.sum(class_correct[i]))} of {int(np.sum(class_total[i]))} were predicted correctly\")\n",
        "      else:\n",
        "          print('Test Accuracy of %5s: N/A (no training examples)' % (classes[i]))\n",
        "\n",
        "    print(f\"\\nOverall Test Accuracy : {float(100. * np.sum(class_correct) / np.sum(class_total)):.4f}% where {int(np.sum(class_correct))} of {int(np.sum(class_total))} were predicted correctly\")\n",
        "\n",
        "    # obtain one batch of test images\n",
        "    dataiter = iter(test_loader)\n",
        "    images, labels = next(dataiter)\n",
        "\n",
        "    # get sample outputs\n",
        "    if use_cuda and torch.cuda.is_available():\n",
        "      images,labels=images.cuda(),labels.cuda()\n",
        "    output = model(images)\n",
        "    # convert output probabilities to predicted class\n",
        "    _, preds = torch.max(output, 1)\n",
        "    # prep images for display\n",
        "    images = images.cpu().numpy()\n",
        "\n",
        "    # plot the images in the batch, along with predicted and true labels\n",
        "    fig = plt.figure(figsize=(25, 4))\n",
        "    for idx in np.arange(20):\n",
        "        ax = fig.add_subplot(2, 20//2, idx+1, xticks=[], yticks=[])\n",
        "        ax.imshow(np.squeeze(images[idx]))\n",
        "        ax.set_title(\"{} for ({})\".format(str(preds[idx].item()), str(labels[idx].item())),\n",
        "                    color=(\"blue\" if preds[idx]==labels[idx] else \"red\"))"
      ],
      "execution_count": null,
      "outputs": []
    },
    {
      "cell_type": "markdown",
      "metadata": {
        "id": "CrIpELozacak"
      },
      "source": [
        "## Visualizing a Test batch with results"
      ]
    },
    {
      "cell_type": "markdown",
      "metadata": {
        "id": "0iEve7adafei"
      },
      "source": [
        "### FFNN"
      ]
    },
    {
      "cell_type": "code",
      "metadata": {
        "id": "26sGXUIu-sbd",
        "colab": {
          "base_uri": "https://localhost:8080/",
          "height": 449
        },
        "outputId": "459060f3-3a62-4250-f8bb-0f2a99a85826"
      },
      "source": [
        "test(model_1)"
      ],
      "execution_count": null,
      "outputs": [
        {
          "output_type": "stream",
          "name": "stdout",
          "text": [
            "For FNet :\n",
            "Test Loss: 0.07622673404361194\n",
            "Correctly predicted per class : [970.0, 1123.0, 1012.0, 986.0, 948.0, 869.0, 931.0, 1010.0, 948.0, 979.0], Total correctly predicted : 9776.0\n",
            "Total Predictions per class : [980.0, 1135.0, 1032.0, 1010.0, 982.0, 892.0, 958.0, 1028.0, 974.0, 1009.0], Total predictions to be made : 10000.0\n",
            "\n",
            "Test Accuracy of class 0 : 98.9796% where 970 of 980 were predicted correctly\n",
            "Test Accuracy of class 1 : 98.9427% where 1123 of 1135 were predicted correctly\n",
            "Test Accuracy of class 2 : 98.0620% where 1012 of 1032 were predicted correctly\n",
            "Test Accuracy of class 3 : 97.6238% where 986 of 1010 were predicted correctly\n",
            "Test Accuracy of class 4 : 96.5377% where 948 of 982 were predicted correctly\n",
            "Test Accuracy of class 5 : 97.4215% where 869 of 892 were predicted correctly\n",
            "Test Accuracy of class 6 : 97.1816% where 931 of 958 were predicted correctly\n",
            "Test Accuracy of class 7 : 98.2490% where 1010 of 1028 were predicted correctly\n",
            "Test Accuracy of class 8 : 97.3306% where 948 of 974 were predicted correctly\n",
            "Test Accuracy of class 9 : 97.0268% where 979 of 1009 were predicted correctly\n",
            "\n",
            "Overall Test Accuracy : 97.7600% where 9776 of 10000 were predicted correctly\n"
          ]
        },
        {
          "output_type": "display_data",
          "data": {
            "text/plain": [
              "<Figure size 2500x400 with 20 Axes>"
            ],
            "image/png": "[encoded data removed]"
          },
          "metadata": {}
        }
      ]
    },
    {
      "cell_type": "markdown",
      "source": [
        "Clearly achieved test accuracy of **97.76**%"
      ],
      "metadata": {
        "id": "HUtm5cJoOhfz"
      }
    },
    {
      "cell_type": "markdown",
      "metadata": {
        "id": "OAsdDrz2ah5F"
      },
      "source": [
        "### CNN"
      ]
    },
    {
      "cell_type": "code",
      "metadata": {
        "id": "8oXKw8d96CfJ",
        "colab": {
          "base_uri": "https://localhost:8080/",
          "height": 449
        },
        "outputId": "3683e0bd-f340-4126-9e5e-fd70c84b88e9"
      },
      "source": [
        "test(model_2)"
      ],
      "execution_count": null,
      "outputs": [
        {
          "output_type": "stream",
          "name": "stdout",
          "text": [
            "For convNet :\n",
            "Test Loss: 0.03194080701151193\n",
            "Correctly predicted per class : [975.0, 1134.0, 1027.0, 1007.0, 974.0, 884.0, 948.0, 1017.0, 968.0, 997.0], Total correctly predicted : 9931.0\n",
            "Total Predictions per class : [980.0, 1135.0, 1032.0, 1010.0, 982.0, 892.0, 958.0, 1028.0, 974.0, 1009.0], Total predictions to be made : 10000.0\n",
            "\n",
            "Test Accuracy of class 0 : 99.4898% where 975 of 980 were predicted correctly\n",
            "Test Accuracy of class 1 : 99.9119% where 1134 of 1135 were predicted correctly\n",
            "Test Accuracy of class 2 : 99.5155% where 1027 of 1032 were predicted correctly\n",
            "Test Accuracy of class 3 : 99.7030% where 1007 of 1010 were predicted correctly\n",
            "Test Accuracy of class 4 : 99.1853% where 974 of 982 were predicted correctly\n",
            "Test Accuracy of class 5 : 99.1031% where 884 of 892 were predicted correctly\n",
            "Test Accuracy of class 6 : 98.9562% where 948 of 958 were predicted correctly\n",
            "Test Accuracy of class 7 : 98.9300% where 1017 of 1028 were predicted correctly\n",
            "Test Accuracy of class 8 : 99.3840% where 968 of 974 were predicted correctly\n",
            "Test Accuracy of class 9 : 98.8107% where 997 of 1009 were predicted correctly\n",
            "\n",
            "Overall Test Accuracy : 99.3100% where 9931 of 10000 were predicted correctly\n"
          ]
        },
        {
          "output_type": "display_data",
          "data": {
            "text/plain": [
              "<Figure size 2500x400 with 20 Axes>"
            ],
            "image/png": "[encoded data removed]"
          },
          "metadata": {}
        }
      ]
    },
    {
      "cell_type": "markdown",
      "source": [
        "Clearly achieved test accuracy of **99.31%**\n",
        "\n",
        "\n"
      ],
      "metadata": {
        "id": "sDXwmXY9OpIE"
      }
    },
    {
      "cell_type": "code",
      "metadata": {
        "id": "9hclOo1JfUeY"
      },
      "source": [],
      "execution_count": null,
      "outputs": []
    }
  ]
}